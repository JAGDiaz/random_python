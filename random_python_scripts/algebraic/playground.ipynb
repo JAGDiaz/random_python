{
 "cells": [
  {
   "cell_type": "code",
   "execution_count": 2,
   "metadata": {},
   "outputs": [],
   "source": [
    "from numba import njit\n",
    "from factorize import factors"
   ]
  },
  {
   "cell_type": "code",
   "execution_count": 3,
   "metadata": {},
   "outputs": [
    {
     "data": {
      "text/plain": [
       "<_dynfunc._Generator at 0x17e246be8b0>"
      ]
     },
     "execution_count": 3,
     "metadata": {},
     "output_type": "execute_result"
    }
   ],
   "source": [
    "factors_njit = njit(factors)\n",
    "factors_njit(12)"
   ]
  },
  {
   "cell_type": "code",
   "execution_count": 4,
   "metadata": {},
   "outputs": [
    {
     "data": {
      "text/plain": [
       "[2, 2, 3]"
      ]
     },
     "execution_count": 4,
     "metadata": {},
     "output_type": "execute_result"
    }
   ],
   "source": [
    "[i for i in factors_njit(12)]"
   ]
  },
  {
   "cell_type": "code",
   "execution_count": 15,
   "metadata": {},
   "outputs": [
    {
     "name": "stdout",
     "output_type": "stream",
     "text": [
      "4.47 ms ± 57.1 µs per loop (mean ± std. dev. of 10 runs, 10000 loops each)\n",
      "136 µs ± 2.12 µs per loop (mean ± std. dev. of 10 runs, 10000 loops each)\n"
     ]
    }
   ],
   "source": [
    "t1 = %timeit -n 10000 -r 10 -o [i for i in factors(1000000001)]\n",
    "t2 = %timeit -n 10000 -r 10 -o [i for i in factors_njit(1000000001)]"
   ]
  },
  {
   "cell_type": "code",
   "execution_count": 12,
   "metadata": {},
   "outputs": [
    {
     "data": {
      "text/plain": [
       "['_repr_pretty_',\n",
       " 'all_runs',\n",
       " 'average',\n",
       " 'best',\n",
       " 'compile_time',\n",
       " 'loops',\n",
       " 'repeat',\n",
       " 'stdev',\n",
       " 'timings',\n",
       " 'worst']"
      ]
     },
     "execution_count": 12,
     "metadata": {},
     "output_type": "execute_result"
    }
   ],
   "source": [
    "[i for i in dir(t1)[-10:]]"
   ]
  },
  {
   "cell_type": "code",
   "execution_count": 17,
   "metadata": {},
   "outputs": [
    {
     "data": {
      "text/plain": [
       "[0.0044133943600000065,\n",
       " 0.004441811800000005,\n",
       " 0.004441496489999998,\n",
       " 0.0045764014900000006,\n",
       " 0.0045022896699999935,\n",
       " 0.004371758990000001,\n",
       " 0.004537766260000001,\n",
       " 0.004471271969999998,\n",
       " 0.004501366570000004,\n",
       " 0.004489263640000001]"
      ]
     },
     "execution_count": 17,
     "metadata": {},
     "output_type": "execute_result"
    }
   ],
   "source": [
    "t1.timings"
   ]
  }
 ],
 "metadata": {
  "kernelspec": {
   "display_name": "tf",
   "language": "python",
   "name": "python3"
  },
  "language_info": {
   "codemirror_mode": {
    "name": "ipython",
    "version": 3
   },
   "file_extension": ".py",
   "mimetype": "text/x-python",
   "name": "python",
   "nbconvert_exporter": "python",
   "pygments_lexer": "ipython3",
   "version": "3.8.12"
  },
  "orig_nbformat": 4,
  "vscode": {
   "interpreter": {
    "hash": "86040fc005cb5098423a403e4263323d47b5e70d287e643bd69441f5507e87b5"
   }
  }
 },
 "nbformat": 4,
 "nbformat_minor": 2
}
